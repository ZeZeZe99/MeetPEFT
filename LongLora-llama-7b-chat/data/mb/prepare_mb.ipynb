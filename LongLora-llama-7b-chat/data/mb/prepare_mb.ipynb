{
 "cells": [
  {
   "cell_type": "code",
   "execution_count": 1,
   "metadata": {},
   "outputs": [],
   "source": [
    "import json\n",
    "from tqdm import tqdm"
   ]
  },
  {
   "cell_type": "code",
   "execution_count": 2,
   "metadata": {},
   "outputs": [],
   "source": [
    "PROMPT = \"Summarize the meeting transcript.\\n\""
   ]
  },
  {
   "cell_type": "code",
   "execution_count": 4,
   "metadata": {},
   "outputs": [],
   "source": [
    "def helper(in_file, out_file):\n",
    "    ret = []\n",
    "    with open(in_file, 'r') as f:\n",
    "        data = json.load(f)\n",
    "    for meeting in tqdm(data):\n",
    "        single_ret = {}\n",
    "        single_ret['instruction'] = PROMPT + meeting['source']\n",
    "        single_ret['output'] = meeting['summary']\n",
    "        ret.append(single_ret)\n",
    "    with open(out_file, 'w') as ff:\n",
    "        json.dump(ret, ff, indent=4)"
   ]
  },
  {
   "cell_type": "code",
   "execution_count": 5,
   "metadata": {},
   "outputs": [
    {
     "name": "stderr",
     "output_type": "stream",
     "text": [
      "100%|██████████| 4832/4832 [00:00<00:00, 236442.17it/s]\n",
      "100%|██████████| 815/815 [00:00<00:00, 456267.72it/s]\n",
      "100%|██████████| 823/823 [00:00<00:00, 431650.89it/s]\n"
     ]
    }
   ],
   "source": [
    "tasks = ['train', 'validation', 'test']\n",
    "\n",
    "for task in tasks:\n",
    "    in_file = f'../../../MeetingBank/{task}_segment_16k.json'\n",
    "    out_file = f'./{task}_segment_16k_lora.json'\n",
    "    helper(in_file, out_file)"
   ]
  }
 ],
 "metadata": {
  "kernelspec": {
   "display_name": "pytorch",
   "language": "python",
   "name": "python3"
  },
  "language_info": {
   "codemirror_mode": {
    "name": "ipython",
    "version": 3
   },
   "file_extension": ".py",
   "mimetype": "text/x-python",
   "name": "python",
   "nbconvert_exporter": "python",
   "pygments_lexer": "ipython3",
   "version": "3.10.13"
  },
  "orig_nbformat": 4
 },
 "nbformat": 4,
 "nbformat_minor": 2
}
