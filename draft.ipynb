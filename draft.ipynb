{
 "cells": [
  {
   "cell_type": "code",
   "execution_count": 11,
   "metadata": {},
   "outputs": [],
   "source": [
    "from transformers import AutoConfig, AutoTokenizer, AutoModelForCausalLM, BitsAndBytesConfig, TextStreamer\n",
    "import math\n",
    "import torch\n",
    "import sys"
   ]
  },
  {
   "cell_type": "code",
   "execution_count": 15,
   "metadata": {},
   "outputs": [],
   "source": [
    "PROMPT_DICT = {\n",
    "    \"prompt_no_input\": (\n",
    "        \"Below is an instruction that describes a task. \"\n",
    "        \"Write a response that appropriately completes the request.\\n\\n\"\n",
    "        \"### Instruction:\\n{instruction}\\n\\n### Response:\"\n",
    "    ),\n",
    "    \"prompt_no_input_llama2\": (\n",
    "        \"<s>[INST] <<SYS>>\\n\"\n",
    "        \"You are a helpful, respectful and honest assistant. Always answer as helpfully as possible, while being safe.  Your answers should not include any harmful, unethical, racist, sexist, toxic, dangerous, or illegal content. Please ensure that your responses are socially unbiased and positive in nature.\\n\\n\"\n",
    "        \"If a question does not make any sense, or is not factually coherent, explain why instead of answering something not correct. If you don't know the answer to a question, please don't share false information.\\n\"\n",
    "        \"<</SYS>> \\n\\n {instruction} [/INST]\"\n",
    "    ),\n",
    "    \"prompt_llama2\": \"[INST]{instruction}[/INST]\"\n",
    "}"
   ]
  },
  {
   "cell_type": "code",
   "execution_count": 2,
   "metadata": {},
   "outputs": [],
   "source": [
    "model_name = \"Yukang/LongAlpaca-7B\"\n",
    "cache_dir = \"./cache\"\n",
    "context_size = 32768"
   ]
  },
  {
   "cell_type": "code",
   "execution_count": 3,
   "metadata": {},
   "outputs": [],
   "source": [
    "config = AutoConfig.from_pretrained(model_name, cache_dir=cache_dir)"
   ]
  },
  {
   "cell_type": "code",
   "execution_count": 4,
   "metadata": {},
   "outputs": [],
   "source": [
    "orig_ctx_len = getattr(config, \"max_position_embeddings\", None)\n",
    "if orig_ctx_len and context_size > orig_ctx_len:\n",
    "    scaling_factor = float(math.ceil(context_size / orig_ctx_len))\n",
    "    config.rope_scaling = {\"type\": \"linear\", \"factor\": scaling_factor}"
   ]
  },
  {
   "cell_type": "code",
   "execution_count": 5,
   "metadata": {},
   "outputs": [
    {
     "data": {
      "application/vnd.jupyter.widget-view+json": {
       "model_id": "25aa2ca681d74cc6a9f0c753d290372e",
       "version_major": 2,
       "version_minor": 0
      },
      "text/plain": [
       "Loading checkpoint shards:   0%|          | 0/2 [00:00<?, ?it/s]"
      ]
     },
     "metadata": {},
     "output_type": "display_data"
    }
   ],
   "source": [
    "model = AutoModelForCausalLM.from_pretrained(\n",
    "        model_name,\n",
    "        config=config,\n",
    "        cache_dir=cache_dir,\n",
    "        torch_dtype=torch.float16,\n",
    "        device_map=\"auto\",\n",
    "        quantization_config = BitsAndBytesConfig(\n",
    "            load_in_4bit=True,\n",
    "            bnb_4bit_use_double_quant=True,\n",
    "            bnb_4bit_quant_type=\"nf4\",\n",
    "            bnb_4bit_compute_dtype=torch.bfloat16\n",
    "        )\n",
    "    )"
   ]
  },
  {
   "cell_type": "code",
   "execution_count": 6,
   "metadata": {},
   "outputs": [
    {
     "data": {
      "text/plain": [
       "Embedding(32001, 4096, padding_idx=0)"
      ]
     },
     "execution_count": 6,
     "metadata": {},
     "output_type": "execute_result"
    }
   ],
   "source": [
    "model.resize_token_embeddings(32001)"
   ]
  },
  {
   "cell_type": "code",
   "execution_count": 7,
   "metadata": {},
   "outputs": [
    {
     "data": {
      "application/vnd.jupyter.widget-view+json": {
       "model_id": "484d99098db7455b8ee2ebe8dc47d6e8",
       "version_major": 2,
       "version_minor": 0
      },
      "text/plain": [
       "tokenizer.model:   0%|          | 0.00/500k [00:00<?, ?B/s]"
      ]
     },
     "metadata": {},
     "output_type": "display_data"
    },
    {
     "data": {
      "application/vnd.jupyter.widget-view+json": {
       "model_id": "dfb9455791f94282a56b4d0ea075f747",
       "version_major": 2,
       "version_minor": 0
      },
      "text/plain": [
       "added_tokens.json:   0%|          | 0.00/21.0 [00:00<?, ?B/s]"
      ]
     },
     "metadata": {},
     "output_type": "display_data"
    },
    {
     "data": {
      "application/vnd.jupyter.widget-view+json": {
       "model_id": "2a4f683e761b4a9ab47f6a773666bbf8",
       "version_major": 2,
       "version_minor": 0
      },
      "text/plain": [
       "special_tokens_map.json:   0%|          | 0.00/438 [00:00<?, ?B/s]"
      ]
     },
     "metadata": {},
     "output_type": "display_data"
    },
    {
     "data": {
      "application/vnd.jupyter.widget-view+json": {
       "model_id": "5bb1451368074b9d869d715b1492c703",
       "version_major": 2,
       "version_minor": 0
      },
      "text/plain": [
       "tokenizer.json:   0%|          | 0.00/1.84M [00:00<?, ?B/s]"
      ]
     },
     "metadata": {},
     "output_type": "display_data"
    }
   ],
   "source": [
    "tokenizer = AutoTokenizer.from_pretrained(\n",
    "        model_name,\n",
    "        cache_dir=cache_dir,\n",
    "        model_max_length=context_size if context_size > orig_ctx_len else orig_ctx_len,\n",
    "        padding_side=\"right\",\n",
    "        use_fast=False,\n",
    "    )"
   ]
  },
  {
   "cell_type": "code",
   "execution_count": 8,
   "metadata": {},
   "outputs": [
    {
     "data": {
      "text/plain": [
       "LlamaForCausalLM(\n",
       "  (model): LlamaModel(\n",
       "    (embed_tokens): Embedding(32001, 4096, padding_idx=0)\n",
       "    (layers): ModuleList(\n",
       "      (0-31): 32 x LlamaDecoderLayer(\n",
       "        (self_attn): LlamaAttention(\n",
       "          (q_proj): Linear4bit(in_features=4096, out_features=4096, bias=False)\n",
       "          (k_proj): Linear4bit(in_features=4096, out_features=4096, bias=False)\n",
       "          (v_proj): Linear4bit(in_features=4096, out_features=4096, bias=False)\n",
       "          (o_proj): Linear4bit(in_features=4096, out_features=4096, bias=False)\n",
       "          (rotary_emb): LlamaLinearScalingRotaryEmbedding()\n",
       "        )\n",
       "        (mlp): LlamaMLP(\n",
       "          (gate_proj): Linear4bit(in_features=4096, out_features=11008, bias=False)\n",
       "          (up_proj): Linear4bit(in_features=4096, out_features=11008, bias=False)\n",
       "          (down_proj): Linear4bit(in_features=11008, out_features=4096, bias=False)\n",
       "          (act_fn): SiLUActivation()\n",
       "        )\n",
       "        (input_layernorm): LlamaRMSNorm()\n",
       "        (post_attention_layernorm): LlamaRMSNorm()\n",
       "      )\n",
       "    )\n",
       "    (norm): LlamaRMSNorm()\n",
       "  )\n",
       "  (lm_head): Linear(in_features=4096, out_features=32001, bias=False)\n",
       ")"
      ]
     },
     "execution_count": 8,
     "metadata": {},
     "output_type": "execute_result"
    }
   ],
   "source": [
    "model.eval()"
   ]
  },
  {
   "cell_type": "code",
   "execution_count": 10,
   "metadata": {},
   "outputs": [],
   "source": [
    "if torch.__version__ >= \"2\" and sys.platform != \"win32\":\n",
    "    model = torch.compile(model)"
   ]
  },
  {
   "cell_type": "code",
   "execution_count": 12,
   "metadata": {},
   "outputs": [],
   "source": [
    "def build_generator(\n",
    "    model, tokenizer, temperature=0.6, top_p=0.9, max_gen_len=512, use_cache=True\n",
    "):\n",
    "    def response(prompt):\n",
    "        inputs = tokenizer(prompt, return_tensors=\"pt\").to(model.device)\n",
    "\n",
    "        streamer = TextStreamer(tokenizer)\n",
    "        \n",
    "        output = model.generate(\n",
    "            **inputs,\n",
    "            max_new_tokens=max_gen_len,\n",
    "            temperature=temperature,\n",
    "            top_p=top_p,\n",
    "            use_cache=use_cache,\n",
    "            streamer=streamer,\n",
    "        )\n",
    "        \n",
    "        out = tokenizer.decode(output[0], skip_special_tokens=True)\n",
    "\n",
    "        out = out.split(prompt.lstrip(\"<s>\"))[1].strip()\n",
    "        return out\n",
    "\n",
    "    return response"
   ]
  },
  {
   "cell_type": "code",
   "execution_count": 13,
   "metadata": {},
   "outputs": [],
   "source": [
    "respond = build_generator(model, tokenizer)"
   ]
  },
  {
   "cell_type": "code",
   "execution_count": 14,
   "metadata": {},
   "outputs": [],
   "source": [
    "material = \"Item CB 119875: speaker 3: Agenda Item one Council Bill 119 875 relating to the South Park immigration operation, an amendment to the Interlocal statement between the City of Seattle and the South Park District.\\nspeaker 0: Thank you. I moved to pass Council Bill 11987875. Is there a second? Second. It's been moved and seconded to pass the bill and sponsor this bill. I will address it first and then open the floor to comments from my colleagues.\\nspeaker 0: We've discussed this amendment for a few months now. On April 28th, 2014, the Seattle City Council approved ordinance 124468, which authorized the Interlocal agreement between the City of Seattle and the Metropolitan Park District for implementation of Park and Recreation Services and infrastructure in Seattle.\\nspeaker 0: pre-COVID, the original schedule would have been to use this year 2020 to plan the next six years cycle of Metropolitan Park District spending. The spending plan, which is scheduled for 2020 21 to 2026. However, COVID has shifted our timelines and we must adjust.\\nspeaker 0: Council Bill 119875. We must adjust. I'm sorry. Council Bill 119875 is an amendment to the Interlocal agreement which authorizes the delay in the event of an emergency by COVID 19. The MPD board will consider Resolution 36 and 37 later this afternoon, which concurrently will complete the Interlocal agreement amended.\\nspeaker 0: But on the what we call the Metropolitan Park District side, I recommend Council adopt this bill. Are there any comments on the bill? Will the clerk please call the rule on the passage of the bill?\\nspeaker 2: So aren't. Yes.\\nspeaker 1: Strauss that.\\nspeaker 2: HERBOLD Yes.\\nspeaker 1: Lewis Yes.\\nspeaker 2: Morales. Rosetta. Councilmember Mosquera. Peterson.\\nspeaker 1: Yes.\\nspeaker 2: Councilmember Suarez.\\nspeaker 0: Yes.\\nspeaker 2: 17 favorite animals.\\nspeaker 0: Okay, so we'll just go forward without mosquito.\\nspeaker 2: Correct.\\nspeaker 0: Okay. The bill passes and the chair will sign it. Will the clerk please fix my signature to the legislation on my behalf?\\nspeaker 2: Madam President, I'm sorry. I couldn't not get off me. Yes, I.\\nspeaker 0: Am glad to see that. I'm not the only one that does that. Okay. I'm sorry. Thank you for.\\nspeaker 2: Receiving a favor. And unopposed.\\nspeaker 0: Great. Thank you. So we are going to get into the appointments, 21 of them, the ones that we discussed this morning, that council member Herbert through this morning. Thank you very much. Well, the clerk please read items 222 into the record.\\n\\nItem Res 31974: speaker 3: Agenda Item 23 Resolution 31974. Setting the time and place for a hearing on the appeal of Robert Wexler. Hearing Center Case Number CW f0149.\\nspeaker 0: Thank you. I'm moved to adopt resolution 31974. There a second.\\nspeaker 2: I can.\\nspeaker 0: Thank you. It's been moved and seconded to adopt the resolution. Council member. That's me. As the sponsor, I will address the item. This bill sets the time and place for a hearing on what appeal to the hearing examiners findings and recommendation report of the waterfront lead or local improvement district number 6751.\\nspeaker 0: This resolution sets the hearing of the appeal to January 5th, 2021, and the regularly scheduled Public Assets and Native Communities Committee. To meet the requirements of the quasi judicial rules. Council must take action this week via this resolution.\\nspeaker 0: And this is a mandatory procedural matter, and we have voted on this in the past. I recommend council confirm Resolution 31974. Second. Okay. Okay. So will the clerk please call the role on the adoption of the resolution?\\nspeaker 2: Salon? Yes. Strauss Yeah. Herbold? Yes. Lewis.\\nspeaker 1: Yes.\\nspeaker 2: Where else? You know, that's. Sarah, I. Peterson.\\nspeaker 1: Yes.\\nspeaker 2: Councilmember Suarez. Yes. Vote in favor and unopposed.\\nspeaker 0: Thank you. The resolution is adopted and the chair will sign it. Will the court please affix my signature to the legislation on my behalf? That's the game you hear over there making comments. Slide show that. Oh, okay. So other business.\\nspeaker 0: Are there any other further business to come before the council? Okay. Well, I have some there's no objection. I will be excused from the October 26 city council meeting. Hearing no objection. I am excused for the October 26 council meeting.\\nspeaker 0: Okay, colleagues, this concludes the items on a business on today's agenda. Our next regularly scheduled city council meeting is on Monday, October 26 at two. But before you go, before we adjourn, we will return at 530 for our Metropolitan Park District Board meeting in which you are all board members for public comment, a public hearing.\\nspeaker 0: We're going to review two resolutions and have a presentation by superintendent basis again today. And with that, we are now joined. Thank you very much.\\n\\n\""
   ]
  },
  {
   "cell_type": "code",
   "execution_count": 16,
   "metadata": {},
   "outputs": [],
   "source": [
    "prompt_no_input = PROMPT_DICT[\"prompt_llama2\"]"
   ]
  },
  {
   "cell_type": "code",
   "execution_count": 17,
   "metadata": {},
   "outputs": [],
   "source": [
    "question = \"Summarize the meeting transcript.\""
   ]
  },
  {
   "cell_type": "code",
   "execution_count": 18,
   "metadata": {},
   "outputs": [],
   "source": [
    "prompt = prompt_no_input.format_map({\"instruction\": material + \"\\n%s\"%question})"
   ]
  },
  {
   "cell_type": "code",
   "execution_count": 19,
   "metadata": {},
   "outputs": [
    {
     "name": "stdout",
     "output_type": "stream",
     "text": [
      "<s> [INST]Item CB 119875: speaker 3: Agenda Item one Council Bill 119 875 relating to the South Park immigration operation, an amendment to the Interlocal statement between the City of Seattle and the South Park District.\n",
      "speaker 0: Thank you. I moved to pass Council Bill 11987875. Is there a second? Second. It's been moved and seconded to pass the bill and sponsor this bill. I will address it first and then open the floor to comments from my colleagues.\n",
      "speaker 0: We've discussed this amendment for a few months now. On April 28th, 2014, the Seattle City Council approved ordinance 124468, which authorized the Interlocal agreement between the City of Seattle and the Metropolitan Park District for implementation of Park and Recreation Services and infrastructure in Seattle.\n",
      "speaker 0: pre-COVID, the original schedule would have been to use this year 2020 to plan the next six years cycle of Metropolitan Park District spending. The spending plan, which is scheduled for 2020 21 to 2026. However, COVID has shifted our timelines and we must adjust.\n",
      "speaker 0: Council Bill 119875. We must adjust. I'm sorry. Council Bill 119875 is an amendment to the Interlocal agreement which authorizes the delay in the event of an emergency by COVID 19. The MPD board will consider Resolution 36 and 37 later this afternoon, which concurrently will complete the Interlocal agreement amended.\n",
      "speaker 0: But on the what we call the Metropolitan Park District side, I recommend Council adopt this bill. Are there any comments on the bill? Will the clerk please call the rule on the passage of the bill?\n",
      "speaker 2: So aren't. Yes.\n",
      "speaker 1: Strauss that.\n",
      "speaker 2: HERBOLD Yes.\n",
      "speaker 1: Lewis Yes.\n",
      "speaker 2: Morales. Rosetta. Councilmember Mosquera. Peterson.\n",
      "speaker 1: Yes.\n",
      "speaker 2: Councilmember Suarez.\n",
      "speaker 0: Yes.\n",
      "speaker 2: 17 favorite animals.\n",
      "speaker 0: Okay, so we'll just go forward without mosquito.\n",
      "speaker 2: Correct.\n",
      "speaker 0: Okay. The bill passes and the chair will sign it. Will the clerk please fix my signature to the legislation on my behalf?\n",
      "speaker 2: Madam President, I'm sorry. I couldn't not get off me. Yes, I.\n",
      "speaker 0: Am glad to see that. I'm not the only one that does that. Okay. I'm sorry. Thank you for.\n",
      "speaker 2: Receiving a favor. And unopposed.\n",
      "speaker 0: Great. Thank you. So we are going to get into the appointments, 21 of them, the ones that we discussed this morning, that council member Herbert through this morning. Thank you very much. Well, the clerk please read items 222 into the record.\n",
      "\n",
      "Item Res 31974: speaker 3: Agenda Item 23 Resolution 31974. Setting the time and place for a hearing on the appeal of Robert Wexler. Hearing Center Case Number CW f0149.\n",
      "speaker 0: Thank you. I'm moved to adopt resolution 31974. There a second.\n",
      "speaker 2: I can.\n",
      "speaker 0: Thank you. It's been moved and seconded to adopt the resolution. Council member. That's me. As the sponsor, I will address the item. This bill sets the time and place for a hearing on what appeal to the hearing examiners findings and recommendation report of the waterfront lead or local improvement district number 6751.\n",
      "speaker 0: This resolution sets the hearing of the appeal to January 5th, 2021, and the regularly scheduled Public Assets and Native Communities Committee. To meet the requirements of the quasi judicial rules. Council must take action this week via this resolution.\n",
      "speaker 0: And this is a mandatory procedural matter, and we have voted on this in the past. I recommend council confirm Resolution 31974. Second. Okay. Okay. So will the clerk please call the role on the adoption of the resolution?\n",
      "speaker 2: Salon? Yes. Strauss Yeah. Herbold? Yes. Lewis.\n",
      "speaker 1: Yes.\n",
      "speaker 2: Where else? You know, that's. Sarah, I. Peterson.\n",
      "speaker 1: Yes.\n",
      "speaker 2: Councilmember Suarez. Yes. Vote in favor and unopposed.\n",
      "speaker 0: Thank you. The resolution is adopted and the chair will sign it. Will the court please affix my signature to the legislation on my behalf? That's the game you hear over there making comments. Slide show that. Oh, okay. So other business.\n",
      "speaker 0: Are there any other further business to come before the council? Okay. Well, I have some there's no objection. I will be excused from the October 26 city council meeting. Hearing no objection. I am excused for the October 26 council meeting.\n",
      "speaker 0: Okay, colleagues, this concludes the items on a business on today's agenda. Our next regularly scheduled city council meeting is on Monday, October 26 at two. But before you go, before we adjourn, we will return at 530 for our Metropolitan Park District Board meeting in which you are all board members for public comment, a public hearing.\n",
      "speaker 0: We're going to review two resolutions and have a presentation by superintendent basis again today. And with that, we are now joined. Thank you very much.\n",
      "\n",
      "\n",
      "Summarize the meeting transcript.[/INST]Here is a summary of the council meeting:\n",
      "\n",
      "The council meeting began with the introduction of new items and agenda items. Council discussed bills and resolutions related to the South Park immigration operation, a delay in spending on parks due to COVID, and an appeal of a waterfront development project. Council also heard public comment on the hearing examiners' findings and recommendation for the local improvement district. \n",
      "\n",
      "Council then discussed appointments to the Metropolitan Park District board, including the appointment of new board members.\n",
      "\n",
      "Council confirmed the resolution setting the time and place for a hearing on the appeal of Robert Wexler. The meeting adjourned at 530 p.m. with council members noting that the next regularly scheduled committee meeting will be held on Monday, October 26.</s>\n"
     ]
    }
   ],
   "source": [
    "output = respond(prompt=prompt)"
   ]
  },
  {
   "cell_type": "code",
   "execution_count": null,
   "metadata": {},
   "outputs": [],
   "source": []
  }
 ],
 "metadata": {
  "kernelspec": {
   "display_name": "base",
   "language": "python",
   "name": "python3"
  },
  "language_info": {
   "codemirror_mode": {
    "name": "ipython",
    "version": 3
   },
   "file_extension": ".py",
   "mimetype": "text/x-python",
   "name": "python",
   "nbconvert_exporter": "python",
   "pygments_lexer": "ipython3",
   "version": "3.10.13"
  }
 },
 "nbformat": 4,
 "nbformat_minor": 2
}
