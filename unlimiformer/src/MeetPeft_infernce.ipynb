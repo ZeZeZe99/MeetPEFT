{
 "cells": [
  {
   "cell_type": "markdown",
   "metadata": {},
   "source": [
    "## QMSum"
   ]
  },
  {
   "cell_type": "code",
   "execution_count": 2,
   "metadata": {},
   "outputs": [],
   "source": [
    "QM_path = \"/Users/zhuzengliang/Documents/GitHub/MeetPEFT/QMSum/meetpeft/test_16k.json\""
   ]
  },
  {
   "cell_type": "code",
   "execution_count": 8,
   "metadata": {},
   "outputs": [
    {
     "data": {
      "text/plain": [
       "20"
      ]
     },
     "execution_count": 8,
     "metadata": {},
     "output_type": "execute_result"
    }
   ],
   "source": [
    "import os\n",
    "import json\n",
    "with open(QM_path, 'r', encoding=\"utf-8\") as f:\n",
    "    val_data = json.load(f)\n",
    "len(val_data)"
   ]
  },
  {
   "cell_type": "code",
   "execution_count": null,
   "metadata": {},
   "outputs": [],
   "source": [
    "from tqdm import tqdm\n",
    "with open(\"output.json\", \"w\") as json_file:\n",
    "    for sample in tqdm(val_data):\n",
    "        prompt = f\"{sample['conversations']}\\nSummarize the above article sentences.\"\n",
    "        sample_result = dict()\n",
    "        sample_result[\"id\"] = sample[\"id\"]\n",
    "        sample_result[\"target\"] = output_text = re.sub(r'\\n', '', sample[\"summary\"]) #remove all \\n\n",
    "        sample_result[\"prediction\"] = re.sub(r'\\n', '', generation)\n",
    "        \n",
    "        json.dump(sample_result, json_file)\n",
    "        json_file.write('\\n')\n",
    "\n",
    "\n"
   ]
  },
  {
   "cell_type": "code",
   "execution_count": 10,
   "metadata": {},
   "outputs": [],
   "source": [
    "output = '''12/06/2023 03:55:57 - WARNING - __main__ - device: cuda, n_gpu: 1, 16-bits training: True\n",
    "Loading checkpoint shards: 100% 2/2 [00:11<00:00,  5.97s/it]\n",
    "12/06/2023 03:56:12 - INFO - __main__ - Namespace(model_type='llama', model_name_or_path='MeetPEFT/MeetPEFT-7B-16K', prompt='Prompt argument here is not used ', length=200, num_hidden_layers=None, stop_token=None, temperature=1.0, repetition_penalty=1.0, k=0, p=0.9, prefix='[INST]', suffix=' \\\\nSummarize the meeting transcript in two sentences.\\\\n[/INST]', padding_text='', xlm_language='', seed=42, no_cuda=False, stream_output=False, num_return_sequences=1, fp16=True, jit=False, device=device(type='cuda'), n_gpu=1)\n",
    "  0% 0/20 [00:00<?, ?it/s]12/06/2023 03:56:12 - INFO - Unlimiformer - Encoding 0 to 4096 out of 14524\n",
    "12/06/2023 03:56:14 - INFO - Unlimiformer - Encoding 2048 to 6144 out of 14524\n",
    "12/06/2023 03:56:15 - INFO - Unlimiformer - Encoding 4096 to 8192 out of 14524\n",
    "12/06/2023 03:56:16 - INFO - Unlimiformer - Encoding 6144 to 10240 out of 14524\n",
    "12/06/2023 03:56:17 - INFO - Unlimiformer - Encoding 8192 to 12288 out of 14524\n",
    "12/06/2023 03:56:18 - INFO - Unlimiformer - Encoding 10240 to 14336 out of 14524\n",
    "12/06/2023 03:56:19 - INFO - Unlimiformer - Encoding 10428 to 14524 out of 14524\n",
    "This is a friendly reminder - the current text generation call will exceed the model's predefined maximum length (2048). Depending on the model, you may observe exceptions, performance degradation, or nothing at all.\n",
    "/usr/local/lib/python3.10/site-packages/faiss/contrib/torch_utils.py:44: UserWarning: TypedStorage is deprecated. It will be removed in the future and UntypedStorage will be the only storage class. This should only matter to you if you are using storages directly.  To access UntypedStorage directly, use tensor.untyped_storage() instead of tensor.storage()\n",
    "  x.storage().data_ptr() + x.storage_offset() * 2)\n",
    "=== GENERATED SEQUENCE 1 (input length: 14524) ===\n",
    "||| This meeting was chaired by Siân Gwenllian AM. The meeting was called to discuss and to debate the Family Law (No) (NoNo) Bill, which was put forward by the Welsh Government to create create criminal and civil law, which seeks seeks to set set the standard standard of what is and what is not not acceptable.</s>\n",
    "  5% 1/20 [02:38<50:10, 158.46s/it]12/06/2023 03:58:50 - INFO - Unlimiformer - Encoding 0 to 4096 out of 12470\n",
    "12/06/2023 03:58:51 - INFO - Unlimiformer - Encoding 2048 to 6144 out of 12470\n",
    "12/06/2023 03:58:52 - INFO - Unlimiformer - Encoding 4096 to 8192 out of 12470\n",
    "12/06/2023 03:58:53 - INFO - Unlimiformer - Encoding 6144 to 10240 out of 12470\n",
    "12/06/2023 03:58:54 - INFO - Unlimiformer - Encoding 8192 to 12288 out of 12470\n",
    "12/06/2023 03:58:55 - INFO - Unlimiformer - Encoding 8374 to 12470 out of 12470\n",
    "=== GENERATED SEQUENCE 1 (input length: 12470) ===\n",
    "||| The team discussed the redesign of the project's product in the meeting meeting meeting. The team also talked about the present present design design design design.</s>\n",
    " 10% 2/20 [03:51<32:23, 107.96s/it]12/06/2023 04:00:03 - INFO - Unlimiformer - Encoding 0 to 4096 out of 9108\n",
    "12/06/2023 04:00:04 - INFO - Unlimiformer - Encoding 2048 to 6144 out of 9108\n",
    "12/06/2023 04:00:05 - INFO - Unlimiformer - Encoding 4096 to 8192 out of 9108\n",
    "12/06/2023 04:00:06 - INFO - Unlimiformer - Encoding 5012 to 9108 out of 9108\n",
    "=== GENERATED SEQUENCE 1 (input length: 9108) ===\n",
    "|||This is an meeting where the team was discussing designing an iPod, and the various various features functionality function button button button button button button button button button button button button button button button button button button button button button button button button button button button button button button button button button button button button button button button button button button button button button button button button button button button button button button button button button button button button button button button button button button button button button button button button button button button button button button button button button button button button button button button button button button button button button button button button button button button button button button button button button button button button button button button button button button button button button button button button button button button button button button button button button button button button button button button button button button button button button button button button button button button button button button button button button button button button button button button button button button button button button button button button button button button button button button button button\n",
    " 15% 3/20 [10:42<1:09:53, 246.66s/it]12/06/2023 04:06:55 - INFO - Unlimiformer - Encoding 0 to 4096 out of 8217\n",
    "12/06/2023 04:06:55 - INFO - Unlimiformer - Encoding 2048 to 6144 out of 8217\n",
    "12/06/2023 04:06:56 - INFO - Unlimiformer - Encoding 4096 to 8192 out of 8217\n",
    "12/06/2023 04:06:57 - INFO - Unlimiformer - Encoding 4121 to 8217 out of 8217\n",
    "=== GENERATED SEQUENCE 1 (input length: 8217) ===\n",
    "|||The team gathered to discuss designs and their applications, and to agree on the shape and form of the remote remote remote remote control control control control control control control control and and and and and and and and and and and and and and and and and and and and and and and and and and and and and and and and and and and and and and and and and and and and and and and and and and and and and and and and and and and and and and and and and and and and and and and and and and and and and and and and and and and and and and and and and and and and and and and and and and and and and and and and and and and and and and and and and and and and and and and and and and and and and and and and and and and and and and and and and and and and and and and and and and and and and and and and and and and and and and and and and and and and and and and\n",
    " 20% 4/20 [17:34<1:23:12, 312.01s/it]12/06/2023 04:13:47 - INFO - Unlimiformer - Encoding 0 to 4096 out of 4621\n",
    "12/06/2023 04:13:48 - INFO - Unlimiformer - Encoding 525 to 4621 out of 4621\n",
    "=== GENERATED SEQUENCE 1 (input length: 4621) ===\n",
    "|||It appears that the crew at Project Project were getting a meeting together to talk about something. Unfortunately, there is no transcript text available to provide provide this this information because because because because because because because because because because because because because because because because because because because because because because because because because because because because because because because because because because because because because because because because because because because because because because because because because because because because because because because because because because because because because because because because because because because because because because because because because because because because because because because because because because because because because because because because because because because because because because because because because because because because because because because because because because because because because because because because because because because because because because because because because because because because because because because because because because because because because because because because because because because because because because because because because because because because because because because because because because because because because because because because because because because because because because\n",
    " 25% 5/20 [24:26<1:26:58, 347.87s/it]12/06/2023 04:20:38 - INFO - Unlimiformer - Encoding 0 to 4096 out of 5928\n",
    "12/06/2023 04:20:39 - INFO - Unlimiformer - Encoding 1832 to 5928 out of 5928\n",
    "=== GENERATED SEQUENCE 1 (input length: 5928) ===\n",
    "|||The Industrial Designerer was just talking about what the remote remote control should have and how it should work. Then the Project Project Manager Manager got up on the tele and started started some {disfmakermarker} by naming naming naming naming naming naming naming naming naming naming naming naming naming naming naming naming naming naming naming naming naming naming naming naming naming naming naming naming naming naming naming naming naming naming naming naming naming naming naming naming naming naming naming naming naming naming naming naming naming naming naming naming naming naming naming naming naming naming naming naming naming naming naming naming naming naming naming naming naming naming naming naming naming naming naming naming naming naming naming naming naming naming naming naming naming naming naming naming naming naming naming naming naming naming naming naming naming naming naming naming naming naming naming naming naming naming naming naming naming naming naming naming naming naming naming naming naming naming naming naming naming naming naming naming naming naming naming naming naming naming naming naming naming naming naming naming naming naming naming naming naming naming naming naming naming naming naming naming naming naming naming naming naming naming\n",
    " 30% 6/20 [31:17<1:26:11, 369.38s/it]12/06/2023 04:27:29 - INFO - Unlimiformer - Encoding 0 to 4096 out of 13626\n",
    "12/06/2023 04:27:30 - INFO - Unlimiformer - Encoding 2048 to 6144 out of 13626\n",
    "12/06/2023 04:27:31 - INFO - Unlimiformer - Encoding 4096 to 8192 out of 13626\n",
    "12/06/2023 04:27:32 - INFO - Unlimiformer - Encoding 6144 to 10240 out of 13626\n",
    "12/06/2023 04:27:33 - INFO - Unlimiformer - Encoding 8192 to 12288 out of 13626\n",
    "12/06/2023 04:27:34 - INFO - Unlimiformer - Encoding 9530 to 13626 out of 13626\n",
    "=== GENERATED SEQUENCE 1 (input length: 13626) ===\n",
    "||| The team discussed the materials to use for the buttons and buttons and buttons. Then they decided to decide to use a rubber spongy feel and a plastic cover with a</s>\n",
    " 35% 7/20 [32:39<59:39, 275.37s/it]  12/06/2023 04:28:51 - INFO - Unlimiformer - Encoding 0 to 4096 out of 13263\n",
    "12/06/2023 04:28:52 - INFO - Unlimiformer - Encoding 2048 to 6144 out of 13263\n",
    "12/06/2023 04:28:53 - INFO - Unlimiformer - Encoding 4096 to 8192 out of 13263\n",
    "12/06/2023 04:28:54 - INFO - Unlimiformer - Encoding 6144 to 10240 out of 13263\n",
    "12/06/2023 04:28:55 - INFO - Unlimiformer - Encoding 8192 to 12288 out of 13263\n",
    "12/06/2023 04:28:56 - INFO - Unlimiformer - Encoding 9167 to 13263 out of 13263\n",
    "=== GENERATED SEQUENCE 1 (input length: 13263) ===\n",
    "||| The meeting focused on raising the status of the Welsh Baccalaureate, which, under Wales' Colegau thing, has been perceived as being lower than A-levellevels. Members discussed and debated and agreed that the Welsh Baccalaureate could be seen as more beneficially situated if it were incorporated more centrally and coherently into the vocational curriculum in schools, so that teachers and students could spend less time and effort checking and more time and effort doing doing doing the assessments, and also because the industry experts could be brought in and involved in the delivering of the Welsh Baccalaureate, in a more structured and context. The meeting also heard a presentation from the Welsh Government representative on the proposed new policy of adoption of the Welsh Baccalaureate.</s>\n",
    " 40% 8/20 [38:43<1:00:44, 303.72s/it]12/06/2023 04:34:56 - INFO - Unlimiformer - Encoding 0 to 4096 out of 7599\n",
    "12/06/2023 04:34:57 - INFO - Unlimiformer - Encoding 2048 to 6144 out of 7599\n",
    "12/06/2023 04:34:57 - INFO - Unlimiformer - Encoding 3503 to 7599 out of 7599\n",
    "=== GENERATED SEQUENCE 1 (input length: 7599) ===\n",
    "|||The team members introduced themselves. Then they discussed and decided on the design for the new remote remote control for TVs and for the future future future future future future future future future future future future future future future future future future future future future future future future future future future future future future future future future future future future future future future future future future future future future future future future future future future future future future future future future future future future future future future future future future future future future future future future future future future future future future future future future future future future future future future future future future future future future future future future future future future future future future future future future future future future future future future future future future future future future future future future future future future future future future future future future future future future future future future future future future future future future future future future future future future future future future future future future future future future future future future future future future future future future future future future future future future future future\n",
    " 45% 9/20 [45:38<1:02:01, 338.35s/it]12/06/2023 04:41:50 - INFO - Unlimiformer - Encoding 0 to 4096 out of 14231\n",
    "12/06/2023 04:41:51 - INFO - Unlimiformer - Encoding 2048 to 6144 out of 14231\n",
    "12/06/2023 04:41:52 - INFO - Unlimiformer - Encoding 4096 to 8192 out of 14231\n",
    "12/06/2023 04:41:53 - INFO - Unlimiformer - Encoding 6144 to 10240 out of 14231\n",
    "12/06/2023 04:41:54 - INFO - Unlimiformer - Encoding 8192 to 12288 out of 14231\n",
    "12/06/2023 04:41:55 - INFO - Unlimiformer - Encoding 10135 to 14231 out of 14231\n",
    "=== GENERATED SEQUENCE 1 (input length: 14231) ===\n",
    "||| In the meeting, it was decided dec to make a new remote control very very very very fancy and and and pretty with buttons buttons with with with with with with.</s>\n",
    " 50% 10/20 [46:54<42:53, 257.37s/it] 12/06/2023 04:43:06 - INFO - Unlimiformer - Encoding 0 to 4096 out of 14096\n",
    "12/06/2023 04:43:07 - INFO - Unlimiformer - Encoding 2048 to 6144 out of 14096\n",
    "12/06/2023 04:43:08 - INFO - Unlimiformer - Encoding 4096 to 8192 out of 14096\n",
    "12/06/2023 04:43:09 - INFO - Unlimiformer - Encoding 6144 to 10240 out of 14096\n",
    "12/06/2023 04:43:10 - INFO - Unlimiformer - Encoding 8192 to 12288 out of 14096\n",
    "12/06/2023 04:43:11 - INFO - Unlimiformer - Encoding 10000 to 14096 out of 14096\n",
    "=== GENERATED SEQUENCE 1 (input length: 14096) ===\n",
    "|||The meeting was about the project project project project project project project project project project project project project project project project project project project project project project project project project project project project project project project project project project project project project project project project project project project project project project project project project project project project project project project project project project project project project project project project project project project project project project project project project project project project project project project project project project project project project project project project project project project project project project project project project project project project project project project project project project project project project project project project project project project project project project project project project project project project project project project project project project project project project project project project project project project project project project project project project project project project project project project project project project project project project project project project project project project project project project project project project project project project project project project project project project project project project project project project project project project project project project project project project project\n",
    " 55% 11/20 [53:52<46:00, 306.69s/it]12/06/2023 04:50:05 - INFO - Unlimiformer - Encoding 0 to 4096 out of 13066\n",
    "12/06/2023 04:50:06 - INFO - Unlimiformer - Encoding 2048 to 6144 out of 13066\n",
    "12/06/2023 04:50:06 - INFO - Unlimiformer - Encoding 4096 to 8192 out of 13066\n",
    "12/06/2023 04:50:07 - INFO - Unlimiformer - Encoding 6144 to 10240 out of 13066\n",
    "12/06/2023 04:50:08 - INFO - Unlimiformer - Encoding 8192 to 12288 out of 13066\n",
    "12/06/2023 04:50:09 - INFO - Unlimiformer - Encoding 8970 to 13066 out of 13066\n",
    "=== GENERATED SEQUENCE 1 (input length: 13066) ===\n",
    "|||During this project meeting, several group discussion topics were covered such as user interface, industrial industrial design, industrial industrial industrial industrial industrial, integrated circuit board design, voice voice recognition recognition, industrial industrial industrial industrial, and buttons buttons buttons buttons buttons buttons buttons buttons buttons buttons buttons buttons buttons buttons buttons buttons buttons buttons buttons buttons buttons buttons buttons buttons buttons buttons buttons buttons buttons buttons buttons buttons buttons buttons buttons buttons buttons buttons buttons buttons buttons buttons buttons buttons buttons buttons buttons buttons buttons buttons buttons buttons buttons buttons buttons buttons buttons buttons buttons buttons buttons buttons buttons buttons buttons buttons buttons buttons buttons buttons buttons buttons buttons buttons buttons buttons buttons buttons buttons buttons buttons buttons buttons buttons buttons buttons buttons buttons buttons buttons buttons buttons buttons buttons buttons buttons buttons buttons buttons buttons buttons buttons buttons buttons buttons buttons buttons buttons buttons buttons buttons buttons buttons buttons buttons buttons buttons buttons buttons buttons buttons buttons buttons buttons buttons buttons buttons buttons buttons buttons buttons buttons buttons buttons buttons buttons buttons buttons buttons buttons buttons buttons buttons buttons buttons buttons buttons buttons buttons buttons buttons buttons buttons buttons buttons buttons buttons\n",
    " 60% 12/20 [1:00:51<45:26, 340.84s/it]12/06/2023 04:57:04 - INFO - Unlimiformer - Encoding 0 to 4096 out of 11273\n",
    "12/06/2023 04:57:05 - INFO - Unlimiformer - Encoding 2048 to 6144 out of 11273\n",
    "12/06/2023 04:57:05 - INFO - Unlimiformer - Encoding 4096 to 8192 out of 11273\n",
    "12/06/2023 04:57:06 - INFO - Unlimiformer - Encoding 6144 to 10240 out of 11273\n",
    "12/06/2023 04:57:07 - INFO - Unlimiformer - Encoding 7177 to 11273 out of 11273\n",
    "=== GENERATED SEQUENCE 1 (input length: 11273) ===\n",
    "|||This is an odd and confused project team meeting. A project team meeting is a gathering of members of a project project team team to share share share information, and and and and and and and and and and and and and and and and and and and and and and and and and and and and and and and and and and and and and and and and and and and and and and and and and and and and and and and and and and and and and and and and and and and and and and and and and and and and and and and and and and and and and and and and and and and and and and and and and and and and and and and and and and and and and and and and and and and and and and and and and and and and and and and and and and and and and and and and and and and and and and and and and and and and and and and and and and and and and and and and and and and and and and and\n",
    " 65% 13/20 [1:07:48<42:26, 363.83s/it]12/06/2023 05:04:00 - INFO - Unlimiformer - Encoding 0 to 4096 out of 14834\n",
    "12/06/2023 05:04:01 - INFO - Unlimiformer - Encoding 2048 to 6144 out of 14834\n",
    "12/06/2023 05:04:02 - INFO - Unlimiformer - Encoding 4096 to 8192 out of 14834\n",
    "12/06/2023 05:04:03 - INFO - Unlimiformer - Encoding 6144 to 10240 out of 14834\n",
    "12/06/2023 05:04:04 - INFO - Unlimiformer - Encoding 8192 to 12288 out of 14834\n",
    "12/06/2023 05:04:05 - INFO - Unlimiformer - Encoding 10240 to 14336 out of 14834\n",
    "12/06/2023 05:04:06 - INFO - Unlimiformer - Encoding 10738 to 14834 out of 14834\n",
    "=== GENERATED SEQUENCE 1 (input length: 14834) ===\n",
    "|||This meeting was a theoretical conversation that was focused on metaphorical and metonymical art. The Grad C who started the conversation talked about how all different kinds of fixed expressions expressions expressions are used in different domains.  Then Grad Grad C C C C C C C C C C C C C C C C C C C C C C C C C C C C C C C C C C C C C C C C C C C C C C C C C C C C C C C C C C C C C C C C C C C C C C C C C C C C C C C C C C C C C C C C C C C C C C C C C C C C C C C C C C C C C C C C C C C C C C C C C C C C C C C C C C C C C C C C C C C C C C C C C C C C C C C\n",
    " 70% 14/20 [1:14:46<38:01, 380.30s/it]12/06/2023 05:10:59 - INFO - Unlimiformer - Encoding 0 to 4096 out of 11512\n",
    "12/06/2023 05:11:00 - INFO - Unlimiformer - Encoding 2048 to 6144 out of 11512\n",
    "12/06/2023 05:11:01 - INFO - Unlimiformer - Encoding 4096 to 8192 out of 11512\n",
    "12/06/2023 05:11:01 - INFO - Unlimiformer - Encoding 6144 to 10240 out of 11512\n",
    "12/06/2023 05:11:02 - INFO - Unlimiformer - Encoding 7416 to 11512 out of 11512\n",
    "=== GENERATED SEQUENCE 1 (input length: 11512) ===\n",
    "|||The meeting was focused on on the the design design design control control control control control control control control control control control control control control control control control control control control control control control control control control control control control control control control control control control control control control control control control control control control control control control control control control control control control control control control control control control control control control control control control control control control control control control control control control control control control control control control control control control control control control control control control control control control control control control control control control control control control control control control control control control control control control control control control control control control control control control control control control control control control control control control control control control control control control control control control control control control control control control control control control control control control control control control control control control control control control control control control control control control control control control control control control control control control control control control control control control control control control control control control control control control\n",
    " 75% 15/20 [1:21:46<32:40, 392.17s/it]12/06/2023 05:17:58 - INFO - Unlimiformer - Encoding 0 to 4096 out of 6060\n",
    "12/06/2023 05:17:59 - INFO - Unlimiformer - Encoding 1964 to 6060 out of 6060\n",
    "=== GENERATED SEQUENCE 1 (input length: 6060) ===\n",
    "||| The meeting started with an analysis about how to incorporate the new new design of the remote mobile phone phone phone's mobile phone into the marketing material material project project project project project project project project project project project project project project project project project project project project project project project project project project project project project project project project project project project project project project project project project project project project project project project project project project project project project project project project project project project project project project project project project project project project project project project project project project project project project project project project project project project project project project project project project project project project project project project project project project project project project project project project project project project project project project project project project project project project project project project project project project project project project project project project project project project project project project project project project project project project project project project project project project project project project project project project project project project project project project project project project project project project project project project\n",
    " 80% 16/20 [1:28:41<26:36, 399.04s/it]12/06/2023 05:24:53 - INFO - Unlimiformer - Encoding 0 to 4096 out of 12929\n",
    "12/06/2023 05:24:54 - INFO - Unlimiformer - Encoding 2048 to 6144 out of 12929\n",
    "12/06/2023 05:24:55 - INFO - Unlimiformer - Encoding 4096 to 8192 out of 12929\n",
    "12/06/2023 05:24:56 - INFO - Unlimiformer - Encoding 6144 to 10240 out of 12929\n",
    "12/06/2023 05:24:57 - INFO - Unlimiformer - Encoding 8192 to 12288 out of 12929\n",
    "12/06/2023 05:24:58 - INFO - Unlimiformer - Encoding 8833 to 12929 out of 12929\n",
    "=== GENERATED SEQUENCE 1 (input length: 12929) ===\n",
    "|||This meeting was called to discuss a new project project project project, which would include the design of a conchshell shell shell with a h h h and plastic plastic and with out a ch ch and with an an an alarm alarm alarm and a be be be be bright button button button button button button button button button button button button button button button button button button button button button button button button button button button button button button button button button button button button button button button button button button button button button button button button button button button button button button button button button button button button button button button button button button button button button button button button button button button button button button button button button button button button button button button button button button button button button button button button button button button button button button button button button button button button button button button button button button button button button button button button button button button button button button button button button button button button button button button button button button button button button button button\n",
    " 85% 17/20 [1:35:41<20:15, 405.29s/it]12/06/2023 05:31:53 - INFO - Unlimiformer - Encoding 0 to 4096 out of 11032\n",
    "12/06/2023 05:31:54 - INFO - Unlimiformer - Encoding 2048 to 6144 out of 11032\n",
    "12/06/2023 05:31:55 - INFO - Unlimiformer - Encoding 4096 to 8192 out of 11032\n",
    "12/06/2023 05:31:56 - INFO - Unlimiformer - Encoding 6144 to 10240 out of 11032\n",
    "12/06/2023 05:31:57 - INFO - Unlimiformer - Encoding 6936 to 11032 out of 11032\n",
    "=== GENERATED SEQUENCE 1 (input length: 11032) ===\n",
    "|||The project project project team team met and discussed and and some some some some some some some some some some some some some some some some some some some some some some some some some some some some some some some some some some some some some some some some some some some some some some some some some some some some some some some some some some some some some some some some some some some some some some some some some some some some some some some some some some some some some some some some some some some some some some some some some some some some some some some some some some some some some some some some some some some some some some some some some some some some some some some some some some some some some some some some some some some some some some some some some some some some some some some some some some some some some some some some some some some some some some some some some some some some some some some some some some some some some some some some some some some some\n",
    " 90% 18/20 [1:42:44<13:41, 410.72s/it]12/06/2023 05:38:57 - INFO - Unlimiformer - Encoding 0 to 4096 out of 13820\n",
    "12/06/2023 05:38:57 - INFO - Unlimiformer - Encoding 2048 to 6144 out of 13820\n",
    "12/06/2023 05:38:58 - INFO - Unlimiformer - Encoding 4096 to 8192 out of 13820\n",
    "12/06/2023 05:38:59 - INFO - Unlimiformer - Encoding 6144 to 10240 out of 13820\n",
    "12/06/2023 05:39:00 - INFO - Unlimiformer - Encoding 8192 to 12288 out of 13820\n",
    "12/06/2023 05:39:01 - INFO - Unlimiformer - Encoding 9724 to 13820 out of 13820\n",
    "=== GENERATED SEQUENCE 1 (input length: 13820) ===\n",
    "|||The The Project Project Project Project Project Project Project Project Project Project Project Project Project Project Project Project Project Project Project Project Project Project Project Project Project Project Project Project Project Project Project Project Project Project Project Project Project Project Project Project Project Project Project Project Project Project Project Project Project Project Project Project Project Project Project Project Project Project Project Project Project Project Project Project Project Project Project Project Project Project Project Project Project Project Project Project Project Project Project Project Project Project Project Project Project Project Project Project Project Project Project Project Project Project Project Project Project Project Project Project Project Project Project Project Project Project Project Project Project Project Project Project Project Project Project Project Project Project Project Project Project Project Project Project Project Project Project Project Project Project Project Project Project Project Project Project Project Project Project Project Project Project Project Project Project Project Project Project Project Project Project Project Project Project Project Project Project Project Project Project Project Project Project Project Project Project Project Project Project Project Project Project Project Project Project Project Project Project Project Project Project Project Project Project Project Project Project Project Project Project Project Project Project Project Project Project Project\n",
    " 95% 19/20 [1:49:49<06:55, 415.00s/it]12/06/2023 05:46:02 - INFO - Unlimiformer - Encoding 0 to 4096 out of 7102\n",
    "12/06/2023 05:46:02 - INFO - Unlimiformer - Encoding 2048 to 6144 out of 7102\n",
    "12/06/2023 05:46:03 - INFO - Unlimiformer - Encoding 3006 to 7102 out of 7102\n",
    "=== GENERATED SEQUENCE 1 (input length: 7102) ===\n",
    "|||The team discussed the details of the remote control product product, including the buttons, a, a, infrared, red Bluetooth technology technology, and a lot of a lot of inf inf. User User Interface Interface Interface Interface Interface Interface Interface Interface Interface Interface Interface Interface Interface Interface Interface Interface Interface Interface Interface Interface Interface Interface Interface Interface Interface Interface Interface Interface Interface Interface Interface Interface Interface Interface Interface Interface Interface Interface Interface Interface Interface Interface Interface Interface Interface Interface Interface Interface Interface Interface Interface Interface Interface Interface Interface Interface Interface Interface Interface Interface Interface Interface Interface Interface Interface Interface Interface Interface Interface Interface Interface Interface Interface Interface Interface Interface Interface Interface Interface Interface Interface Interface Interface Interface Interface Interface Interface Interface Interface Interface Interface Interface Interface Interface Interface Interface Interface Interface Interface Interface Interface Interface Interface Interface Interface Interface Interface Interface Interface Interface Interface Interface Interface Interface Interface Interface Interface Interface Interface Interface Interface Interface Interface Interface Interface Interface Interface Interface Interface Interface Interface Interface Interface Interface Interface Interface Interface Interface Interface Interface Interface Interface Interface Interface Interface Interface Interface Interface Interface Interface Interface Interface Interface Interface Interface Interface Interface\n",
    "'''"
   ]
  },
  {
   "cell_type": "code",
   "execution_count": 16,
   "metadata": {},
   "outputs": [
    {
     "data": {
      "text/plain": [
       "[' This meeting was chaired by Siân Gwenllian AM. The meeting was called to discuss and to debate the Family Law (No) (NoNo) Bill, which was put forward by the Welsh Government to create create criminal and civil law, which seeks seeks to set set the standard standard of what is and what is not not acceptable.</s>',\n",
       " \" The team discussed the redesign of the project's product in the meeting meeting meeting. The team also talked about the present present design design design design.</s>\",\n",
       " 'This is an meeting where the team was discussing designing an iPod, and the various various features functionality function button button button button button button button button button button button button button button button button button button button button button button button button button button button button button button button button button button button button button button button button button button button button button button button button button button button button button button button button button button button button button button button button button button button button button button button button button button button button button button button button button button button button button button button button button button button button button button button button button button button button button button button button button button button button button button button button button button button button button button button button button button button button button button button button button button button button button button button button button button button button button button button button button button button button button button button button button button button button button button button button button button button button button button button button button button button button button button button button',\n",
       " 'The team gathered to discuss designs and their applications, and to agree on the shape and form of the remote remote remote remote control control control control control control control control and and and and and and and and and and and and and and and and and and and and and and and and and and and and and and and and and and and and and and and and and and and and and and and and and and and and and and and and and and and and and and and and and and and and and and and and and and and and and and and and and and and and and and and and and and and and and and and and and and and and and and and and and and and and and and and and and and and and and and and and and and and and and and and and and and and and and and and and and and and and and and and and and and and and and and and and and and and and and and and and and and and and and and and',\n",
       " 'It appears that the crew at Project Project were getting a meeting together to talk about something. Unfortunately, there is no transcript text available to provide provide this this information because because because because because because because because because because because because because because because because because because because because because because because because because because because because because because because because because because because because because because because because because because because because because because because because because because because because because because because because because because because because because because because because because because because because because because because because because because because because because because because because because because because because because because because because because because because because because because because because because because because because because because because because because because because because because because because because because because because because because because because because because because because because because because because because because because because because because because because because because because because because because because because because because because because because because because because because because because because because because because because because because because because because because because',\n",
       " 'The Industrial Designerer was just talking about what the remote remote control should have and how it should work. Then the Project Project Manager Manager got up on the tele and started started some {disfmakermarker} by naming naming naming naming naming naming naming naming naming naming naming naming naming naming naming naming naming naming naming naming naming naming naming naming naming naming naming naming naming naming naming naming naming naming naming naming naming naming naming naming naming naming naming naming naming naming naming naming naming naming naming naming naming naming naming naming naming naming naming naming naming naming naming naming naming naming naming naming naming naming naming naming naming naming naming naming naming naming naming naming naming naming naming naming naming naming naming naming naming naming naming naming naming naming naming naming naming naming naming naming naming naming naming naming naming naming naming naming naming naming naming naming naming naming naming naming naming naming naming naming naming naming naming naming naming naming naming naming naming naming naming naming naming naming naming naming naming naming naming naming naming naming naming naming naming naming naming naming naming naming naming naming naming naming',\n",
       " ' The team discussed the materials to use for the buttons and buttons and buttons. Then they decided to decide to use a rubber spongy feel and a plastic cover with a</s>',\n",
       " \" The meeting focused on raising the status of the Welsh Baccalaureate, which, under Wales' Colegau thing, has been perceived as being lower than A-levellevels. Members discussed and debated and agreed that the Welsh Baccalaureate could be seen as more beneficially situated if it were incorporated more centrally and coherently into the vocational curriculum in schools, so that teachers and students could spend less time and effort checking and more time and effort doing doing doing the assessments, and also because the industry experts could be brought in and involved in the delivering of the Welsh Baccalaureate, in a more structured and context. The meeting also heard a presentation from the Welsh Government representative on the proposed new policy of adoption of the Welsh Baccalaureate.</s>\",\n",
       " 'The team members introduced themselves. Then they discussed and decided on the design for the new remote remote control for TVs and for the future future future future future future future future future future future future future future future future future future future future future future future future future future future future future future future future future future future future future future future future future future future future future future future future future future future future future future future future future future future future future future future future future future future future future future future future future future future future future future future future future future future future future future future future future future future future future future future future future future future future future future future future future future future future future future future future future future future future future future future future future future future future future future future future future future future future future future future future future future future future future future future future future future future future future future future future future future future future future future future future future future future future future future future future future future future future future',\n",
       " ' In the meeting, it was decided dec to make a new remote control very very very very fancy and and and pretty with buttons buttons with with with with with with.</s>',\n",
       " 'The meeting was about the project project project project project project project project project project project project project project project project project project project project project project project project project project project project project project project project project project project project project project project project project project project project project project project project project project project project project project project project project project project project project project project project project project project project project project project project project project project project project project project project project project project project project project project project project project project project project project project project project project project project project project project project project project project project project project project project project project project project project project project project project project project project project project project project project project project project project project project project project project project project project project project project project project project project project project project project project project project project project project project project project project project project project project project project project project project project project project project project project project project project project project project project project project project project project project project project project project',\n",
       " 'During this project meeting, several group discussion topics were covered such as user interface, industrial industrial design, industrial industrial industrial industrial industrial, integrated circuit board design, voice voice recognition recognition, industrial industrial industrial industrial, and buttons buttons buttons buttons buttons buttons buttons buttons buttons buttons buttons buttons buttons buttons buttons buttons buttons buttons buttons buttons buttons buttons buttons buttons buttons buttons buttons buttons buttons buttons buttons buttons buttons buttons buttons buttons buttons buttons buttons buttons buttons buttons buttons buttons buttons buttons buttons buttons buttons buttons buttons buttons buttons buttons buttons buttons buttons buttons buttons buttons buttons buttons buttons buttons buttons buttons buttons buttons buttons buttons buttons buttons buttons buttons buttons buttons buttons buttons buttons buttons buttons buttons buttons buttons buttons buttons buttons buttons buttons buttons buttons buttons buttons buttons buttons buttons buttons buttons buttons buttons buttons buttons buttons buttons buttons buttons buttons buttons buttons buttons buttons buttons buttons buttons buttons buttons buttons buttons buttons buttons buttons buttons buttons buttons buttons buttons buttons buttons buttons buttons buttons buttons buttons buttons buttons buttons buttons buttons buttons buttons buttons buttons buttons buttons buttons buttons buttons buttons buttons buttons buttons buttons buttons buttons buttons buttons buttons',\n",
       " 'This is an odd and confused project team meeting. A project team meeting is a gathering of members of a project project team team to share share share information, and and and and and and and and and and and and and and and and and and and and and and and and and and and and and and and and and and and and and and and and and and and and and and and and and and and and and and and and and and and and and and and and and and and and and and and and and and and and and and and and and and and and and and and and and and and and and and and and and and and and and and and and and and and and and and and and and and and and and and and and and and and and and and and and and and and and and and and and and and and and and and and and and and and and and and and and and and and and and and and and and and and and and and and',\n",
       " 'This meeting was a theoretical conversation that was focused on metaphorical and metonymical art. The Grad C who started the conversation talked about how all different kinds of fixed expressions expressions expressions are used in different domains.  Then Grad Grad C C C C C C C C C C C C C C C C C C C C C C C C C C C C C C C C C C C C C C C C C C C C C C C C C C C C C C C C C C C C C C C C C C C C C C C C C C C C C C C C C C C C C C C C C C C C C C C C C C C C C C C C C C C C C C C C C C C C C C C C C C C C C C C C C C C C C C C C C C C C C C C C C C C C C C C',\n",
       " 'The meeting was focused on on the the design design design control control control control control control control control control control control control control control control control control control control control control control control control control control control control control control control control control control control control control control control control control control control control control control control control control control control control control control control control control control control control control control control control control control control control control control control control control control control control control control control control control control control control control control control control control control control control control control control control control control control control control control control control control control control control control control control control control control control control control control control control control control control control control control control control control control control control control control control control control control control control control control control control control control control control control control control control control control control control control control control control control control control control control control control control control control control control control control control control control control control control control control control control control control control control',\n",
       " \" The meeting started with an analysis about how to incorporate the new new design of the remote mobile phone phone phone's mobile phone into the marketing material material project project project project project project project project project project project project project project project project project project project project project project project project project project project project project project project project project project project project project project project project project project project project project project project project project project project project project project project project project project project project project project project project project project project project project project project project project project project project project project project project project project project project project project project project project project project project project project project project project project project project project project project project project project project project project project project project project project project project project project project project project project project project project project project project project project project project project project project project project project project project project project project project project project project project project project project project project project project project project project project project project project project project project project project\",\n",
       " 'This meeting was called to discuss a new project project project project, which would include the design of a conchshell shell shell with a h h h and plastic plastic and with out a ch ch and with an an an alarm alarm alarm and a be be be be bright button button button button button button button button button button button button button button button button button button button button button button button button button button button button button button button button button button button button button button button button button button button button button button button button button button button button button button button button button button button button button button button button button button button button button button button button button button button button button button button button button button button button button button button button button button button button button button button button button button button button button button button button button button button button button button button button button button button button button button button button button button button button button button button button button button button button button button button button button button button button button button button',\n",
       " 'The project project project team team met and discussed and and some some some some some some some some some some some some some some some some some some some some some some some some some some some some some some some some some some some some some some some some some some some some some some some some some some some some some some some some some some some some some some some some some some some some some some some some some some some some some some some some some some some some some some some some some some some some some some some some some some some some some some some some some some some some some some some some some some some some some some some some some some some some some some some some some some some some some some some some some some some some some some some some some some some some some some some some some some some some some some some some some some some some some some some some some some some some some some some some some some some some some some some some some some some some',\n",
       " 'The The Project Project Project Project Project Project Project Project Project Project Project Project Project Project Project Project Project Project Project Project Project Project Project Project Project Project Project Project Project Project Project Project Project Project Project Project Project Project Project Project Project Project Project Project Project Project Project Project Project Project Project Project Project Project Project Project Project Project Project Project Project Project Project Project Project Project Project Project Project Project Project Project Project Project Project Project Project Project Project Project Project Project Project Project Project Project Project Project Project Project Project Project Project Project Project Project Project Project Project Project Project Project Project Project Project Project Project Project Project Project Project Project Project Project Project Project Project Project Project Project Project Project Project Project Project Project Project Project Project Project Project Project Project Project Project Project Project Project Project Project Project Project Project Project Project Project Project Project Project Project Project Project Project Project Project Project Project Project Project Project Project Project Project Project Project Project Project Project Project Project Project Project Project Project Project Project Project Project Project Project Project Project Project Project Project Project Project Project Project Project Project Project Project Project Project Project Project',\n",
       " 'The team discussed the details of the remote control product product, including the buttons, a, a, infrared, red Bluetooth technology technology, and a lot of a lot of inf inf. User User Interface Interface Interface Interface Interface Interface Interface Interface Interface Interface Interface Interface Interface Interface Interface Interface Interface Interface Interface Interface Interface Interface Interface Interface Interface Interface Interface Interface Interface Interface Interface Interface Interface Interface Interface Interface Interface Interface Interface Interface Interface Interface Interface Interface Interface Interface Interface Interface Interface Interface Interface Interface Interface Interface Interface Interface Interface Interface Interface Interface Interface Interface Interface Interface Interface Interface Interface Interface Interface Interface Interface Interface Interface Interface Interface Interface Interface Interface Interface Interface Interface Interface Interface Interface Interface Interface Interface Interface Interface Interface Interface Interface Interface Interface Interface Interface Interface Interface Interface Interface Interface Interface Interface Interface Interface Interface Interface Interface Interface Interface Interface Interface Interface Interface Interface Interface Interface Interface Interface Interface Interface Interface Interface Interface Interface Interface Interface Interface Interface Interface Interface Interface Interface Interface Interface Interface Interface Interface Interface Interface Interface Interface Interface Interface Interface Interface Interface Interface Interface Interface Interface Interface Interface Interface Interface Interface Interface']"
      ]
     },
     "execution_count": 16,
     "metadata": {},
     "output_type": "execute_result"
    }
   ],
   "source": [
    "# Regular expression pattern to match the desired strings\n",
    "import re\n",
    "pattern = r\"\\|\\|\\|(.*)\\n\"\n",
    "\n",
    "# Using re.findall to get all matches in the sample text\n",
    "matches = re.findall(pattern, output)\n",
    "\n",
    "matches"
   ]
  },
  {
   "cell_type": "code",
   "execution_count": 17,
   "metadata": {},
   "outputs": [
    {
     "name": "stdout",
     "output_type": "stream",
     "text": [
      "20\n"
     ]
    }
   ],
   "source": [
    "print(len(matches))"
   ]
  },
  {
   "cell_type": "code",
   "execution_count": null,
   "metadata": {},
   "outputs": [],
   "source": [
    "QM_path = \"/Users/zhuzengliang/Documents/GitHub/MeetPEFT/QMSum/meetpeft/test_16k.json\"\n",
    "with open(QM_path, 'r', encoding=\"utf-8\") as f:\n",
    "    val_data = json.load(f)\n",
    "len(val_data)\n",
    "with open(\"output_unlimi_longAlp_qusum.json\", \"w\") as json_file:\n",
    "    for sample in tqdm(val_data):\n",
    "        sample_result = dict()\n",
    "        prompt_text = sample['conversations']\n",
    "        sample_result[\"id\"] = sample[\"id\"]\n",
    "        sample_result[\"target\"] = re.sub(r'\\n', '', sample[\"summary\"]) #remove all \\n\n"
   ]
  }
 ],
 "metadata": {
  "kernelspec": {
   "display_name": "fcds",
   "language": "python",
   "name": "fcds"
  },
  "language_info": {
   "codemirror_mode": {
    "name": "ipython",
    "version": 3
   },
   "file_extension": ".py",
   "mimetype": "text/x-python",
   "name": "python",
   "nbconvert_exporter": "python",
   "pygments_lexer": "ipython3",
   "version": "3.8.16"
  }
 },
 "nbformat": 4,
 "nbformat_minor": 2
}
