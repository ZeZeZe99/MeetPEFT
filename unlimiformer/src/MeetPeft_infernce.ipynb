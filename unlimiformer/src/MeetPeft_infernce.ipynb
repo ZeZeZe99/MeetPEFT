{
 "cells": [
  {
   "cell_type": "markdown",
   "metadata": {},
   "source": [
    "## QMSum"
   ]
  },
  {
   "cell_type": "code",
   "execution_count": 2,
   "metadata": {},
   "outputs": [],
   "source": [
    "QM_path = \"/Users/zhuzengliang/Documents/GitHub/MeetPEFT/QMSum/meetpeft/test_16k.json\""
   ]
  },
  {
   "cell_type": "code",
   "execution_count": 8,
   "metadata": {},
   "outputs": [
    {
     "data": {
      "text/plain": [
       "20"
      ]
     },
     "execution_count": 8,
     "metadata": {},
     "output_type": "execute_result"
    }
   ],
   "source": [
    "import os\n",
    "import json\n",
    "with open(QM_path, 'r', encoding=\"utf-8\") as f:\n",
    "    val_data = json.load(f)\n",
    "len(val_data)"
   ]
  },
  {
   "cell_type": "code",
   "execution_count": null,
   "metadata": {},
   "outputs": [],
   "source": [
    "from tqdm import tqdm\n",
    "with open(\"output.json\", \"w\") as json_file:\n",
    "    for sample in tqdm(val_data):\n",
    "        prompt = f\"{sample['conversations']}\\nSummarize the above article sentences.\"\n",
    "        sample_result = dict()\n",
    "        sample_result[\"id\"] = sample[\"id\"]\n",
    "        sample_result[\"target\"] = output_text = re.sub(r'\\n', '', sample[\"summary\"]) #remove all \\n\n",
    "        sample_result[\"prediction\"] = re.sub(r'\\n', '', generation)\n",
    "        \n",
    "        json.dump(sample_result, json_file)\n",
    "        json_file.write('\\n')\n",
    "\n",
    "\n"
   ]
  }
 ],
 "metadata": {
  "kernelspec": {
   "display_name": "fcds",
   "language": "python",
   "name": "fcds"
  },
  "language_info": {
   "codemirror_mode": {
    "name": "ipython",
    "version": 3
   },
   "file_extension": ".py",
   "mimetype": "text/x-python",
   "name": "python",
   "nbconvert_exporter": "python",
   "pygments_lexer": "ipython3",
   "version": "3.8.16"
  }
 },
 "nbformat": 4,
 "nbformat_minor": 2
}
