{
 "cells": [
  {
   "cell_type": "code",
   "execution_count": 1,
   "metadata": {},
   "outputs": [],
   "source": [
    "import json\n",
    "\n",
    "def jsonl_to_json(jsonl_file_path, json_file_path):\n",
    "    data = []\n",
    "\n",
    "    # Read the JSONL file\n",
    "    with open(jsonl_file_path, 'r') as file:\n",
    "        for line in file:\n",
    "            # Convert each line to a JSON object and append to a list\n",
    "            json_obj = json.loads(line)\n",
    "            data.append(json_obj)\n",
    "\n",
    "    # Write the list of JSON objects to a JSON file\n",
    "    with open(json_file_path, 'w') as file:\n",
    "        json.dump(data, file, indent=4)\n",
    "\n",
    "# Usage\n",
    "jsonl_file_path = 'train_16k.jsonl'\n",
    "json_file_path = 'train_16k.json'\n",
    "\n",
    "jsonl_to_json(jsonl_file_path, json_file_path)"
   ]
  },
  {
   "cell_type": "code",
   "execution_count": null,
   "metadata": {},
   "outputs": [],
   "source": []
  }
 ],
 "metadata": {
  "kernelspec": {
   "display_name": "pytorch",
   "language": "python",
   "name": "python3"
  },
  "language_info": {
   "codemirror_mode": {
    "name": "ipython",
    "version": 3
   },
   "file_extension": ".py",
   "mimetype": "text/x-python",
   "name": "python",
   "nbconvert_exporter": "python",
   "pygments_lexer": "ipython3",
   "version": "3.10.13"
  },
  "orig_nbformat": 4
 },
 "nbformat": 4,
 "nbformat_minor": 2
}
